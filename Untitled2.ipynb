{
 "cells": [
  {
   "cell_type": "code",
   "execution_count": 1,
   "metadata": {
    "id": "x40uU-yBqKih"
   },
   "outputs": [],
   "source": [
    "import pandas as pd\n",
    "import numpy as np"
   ]
  },
  {
   "cell_type": "markdown",
   "metadata": {
    "id": "GWuKs_miqKiz"
   },
   "source": [
    "**Текст, выделенный полужирным шрифтом**## 2.1 Разбиение набора данных"
   ]
  },
  {
   "cell_type": "code",
   "execution_count": 2,
   "metadata": {
    "colab": {
     "base_uri": "https://localhost:8080/",
     "height": 311
    },
    "id": "H69EBNCFqKi7",
    "outputId": "e2aa2a4d-fcf5-4eff-918d-1d8a69e01241"
   },
   "outputs": [],
   "source": [
    "df=pd.read_csv('result_data.csv')"
   ]
  },
  {
   "cell_type": "markdown",
   "metadata": {
    "id": "QABVCQrwqKi-"
   },
   "source": [
    "Разобъём набор данных таким образом, как это рекомендовано согласно документации `Sklearn`. А именно `30 на 70`. Как представленно в описании, такая выборка является оптимальной, поскольку абсолютное большинство данных должно находится при обучении модели, чтобы получить наиболее оптимизированную модель со стороны её точности\n",
    "\n",
    "### Стратификация\n",
    "При разделении стратифицируем данные, чтобы получить одинаковую в процентом соотношении выборку, чтобы не было перевеса на какой-то один класс и такая ситуация не повлияла на некорректное обучение модели"
   ]
  },
  {
   "cell_type": "code",
   "execution_count": 3,
   "metadata": {
    "id": "W6UZ0KDKqKjC",
    "outputId": "4f9b0871-2c77-4e1a-9dda-6fb93ce35ac6"
   },
   "outputs": [
    {
     "data": {
      "text/html": [
       "<div>\n",
       "<style scoped>\n",
       "    .dataframe tbody tr th:only-of-type {\n",
       "        vertical-align: middle;\n",
       "    }\n",
       "\n",
       "    .dataframe tbody tr th {\n",
       "        vertical-align: top;\n",
       "    }\n",
       "\n",
       "    .dataframe thead th {\n",
       "        text-align: right;\n",
       "    }\n",
       "</style>\n",
       "<table border=\"1\" class=\"dataframe\">\n",
       "  <thead>\n",
       "    <tr style=\"text-align: right;\">\n",
       "      <th></th>\n",
       "      <th>iso_code</th>\n",
       "      <th>continent</th>\n",
       "      <th>location</th>\n",
       "      <th>date</th>\n",
       "      <th>total_cases</th>\n",
       "      <th>new_cases</th>\n",
       "      <th>new_cases_smoothed</th>\n",
       "      <th>total_deaths</th>\n",
       "      <th>new_deaths</th>\n",
       "      <th>new_deaths_smoothed</th>\n",
       "      <th>...</th>\n",
       "      <th>hospital_beds_per_thousand</th>\n",
       "      <th>life_expectancy</th>\n",
       "      <th>human_development_index</th>\n",
       "      <th>excess_mortality_cumulative_absolute</th>\n",
       "      <th>excess_mortality_cumulative</th>\n",
       "      <th>excess_mortality</th>\n",
       "      <th>excess_mortality_cumulative_per_million</th>\n",
       "      <th>mean_cases</th>\n",
       "      <th>mean_deaths</th>\n",
       "      <th>Rt</th>\n",
       "    </tr>\n",
       "  </thead>\n",
       "  <tbody>\n",
       "    <tr>\n",
       "      <th>0</th>\n",
       "      <td>MEX</td>\n",
       "      <td>North America</td>\n",
       "      <td>Mexico</td>\n",
       "      <td>2022-05-15</td>\n",
       "      <td>5745652.0</td>\n",
       "      <td>0.0</td>\n",
       "      <td>853.143</td>\n",
       "      <td>324465.0</td>\n",
       "      <td>0.0</td>\n",
       "      <td>18.714</td>\n",
       "      <td>...</td>\n",
       "      <td>1.38</td>\n",
       "      <td>75.05</td>\n",
       "      <td>0.779</td>\n",
       "      <td>0.0</td>\n",
       "      <td>0.0</td>\n",
       "      <td>0.0</td>\n",
       "      <td>0.0</td>\n",
       "      <td>6589.737686</td>\n",
       "      <td>363.770905</td>\n",
       "      <td>0.0</td>\n",
       "    </tr>\n",
       "    <tr>\n",
       "      <th>1</th>\n",
       "      <td>MEX</td>\n",
       "      <td>North America</td>\n",
       "      <td>Mexico</td>\n",
       "      <td>2022-05-16</td>\n",
       "      <td>5752441.0</td>\n",
       "      <td>6789.0</td>\n",
       "      <td>969.857</td>\n",
       "      <td>324617.0</td>\n",
       "      <td>152.0</td>\n",
       "      <td>21.714</td>\n",
       "      <td>...</td>\n",
       "      <td>1.38</td>\n",
       "      <td>75.05</td>\n",
       "      <td>0.779</td>\n",
       "      <td>0.0</td>\n",
       "      <td>0.0</td>\n",
       "      <td>0.0</td>\n",
       "      <td>0.0</td>\n",
       "      <td>6589.737686</td>\n",
       "      <td>363.770905</td>\n",
       "      <td>0.0</td>\n",
       "    </tr>\n",
       "    <tr>\n",
       "      <th>2</th>\n",
       "      <td>MEX</td>\n",
       "      <td>North America</td>\n",
       "      <td>Mexico</td>\n",
       "      <td>2022-05-17</td>\n",
       "      <td>5752441.0</td>\n",
       "      <td>0.0</td>\n",
       "      <td>0.000</td>\n",
       "      <td>324617.0</td>\n",
       "      <td>0.0</td>\n",
       "      <td>0.000</td>\n",
       "      <td>...</td>\n",
       "      <td>1.38</td>\n",
       "      <td>75.05</td>\n",
       "      <td>0.779</td>\n",
       "      <td>0.0</td>\n",
       "      <td>0.0</td>\n",
       "      <td>0.0</td>\n",
       "      <td>0.0</td>\n",
       "      <td>6589.737686</td>\n",
       "      <td>363.770905</td>\n",
       "      <td>0.0</td>\n",
       "    </tr>\n",
       "    <tr>\n",
       "      <th>3</th>\n",
       "      <td>MEX</td>\n",
       "      <td>North America</td>\n",
       "      <td>Mexico</td>\n",
       "      <td>2022-05-18</td>\n",
       "      <td>5752441.0</td>\n",
       "      <td>0.0</td>\n",
       "      <td>0.000</td>\n",
       "      <td>324617.0</td>\n",
       "      <td>0.0</td>\n",
       "      <td>0.000</td>\n",
       "      <td>...</td>\n",
       "      <td>1.38</td>\n",
       "      <td>75.05</td>\n",
       "      <td>0.779</td>\n",
       "      <td>0.0</td>\n",
       "      <td>0.0</td>\n",
       "      <td>0.0</td>\n",
       "      <td>0.0</td>\n",
       "      <td>6589.737686</td>\n",
       "      <td>363.770905</td>\n",
       "      <td>0.0</td>\n",
       "    </tr>\n",
       "    <tr>\n",
       "      <th>4</th>\n",
       "      <td>MEX</td>\n",
       "      <td>North America</td>\n",
       "      <td>Mexico</td>\n",
       "      <td>2022-05-19</td>\n",
       "      <td>5752441.0</td>\n",
       "      <td>0.0</td>\n",
       "      <td>0.000</td>\n",
       "      <td>324617.0</td>\n",
       "      <td>0.0</td>\n",
       "      <td>0.000</td>\n",
       "      <td>...</td>\n",
       "      <td>1.38</td>\n",
       "      <td>75.05</td>\n",
       "      <td>0.779</td>\n",
       "      <td>0.0</td>\n",
       "      <td>0.0</td>\n",
       "      <td>0.0</td>\n",
       "      <td>0.0</td>\n",
       "      <td>6589.737686</td>\n",
       "      <td>363.770905</td>\n",
       "      <td>0.0</td>\n",
       "    </tr>\n",
       "    <tr>\n",
       "      <th>...</th>\n",
       "      <td>...</td>\n",
       "      <td>...</td>\n",
       "      <td>...</td>\n",
       "      <td>...</td>\n",
       "      <td>...</td>\n",
       "      <td>...</td>\n",
       "      <td>...</td>\n",
       "      <td>...</td>\n",
       "      <td>...</td>\n",
       "      <td>...</td>\n",
       "      <td>...</td>\n",
       "      <td>...</td>\n",
       "      <td>...</td>\n",
       "      <td>...</td>\n",
       "      <td>...</td>\n",
       "      <td>...</td>\n",
       "      <td>...</td>\n",
       "      <td>...</td>\n",
       "      <td>...</td>\n",
       "      <td>...</td>\n",
       "      <td>...</td>\n",
       "    </tr>\n",
       "    <tr>\n",
       "      <th>188554</th>\n",
       "      <td>PCN</td>\n",
       "      <td>Oceania</td>\n",
       "      <td>Pitcairn</td>\n",
       "      <td>2021-06-16</td>\n",
       "      <td>0.0</td>\n",
       "      <td>0.0</td>\n",
       "      <td>0.000</td>\n",
       "      <td>0.0</td>\n",
       "      <td>0.0</td>\n",
       "      <td>0.000</td>\n",
       "      <td>...</td>\n",
       "      <td>0.00</td>\n",
       "      <td>0.00</td>\n",
       "      <td>0.000</td>\n",
       "      <td>0.0</td>\n",
       "      <td>0.0</td>\n",
       "      <td>0.0</td>\n",
       "      <td>0.0</td>\n",
       "      <td>0.000000</td>\n",
       "      <td>0.000000</td>\n",
       "      <td>0.0</td>\n",
       "    </tr>\n",
       "    <tr>\n",
       "      <th>188555</th>\n",
       "      <td>PCN</td>\n",
       "      <td>Oceania</td>\n",
       "      <td>Pitcairn</td>\n",
       "      <td>2021-06-17</td>\n",
       "      <td>0.0</td>\n",
       "      <td>0.0</td>\n",
       "      <td>0.000</td>\n",
       "      <td>0.0</td>\n",
       "      <td>0.0</td>\n",
       "      <td>0.000</td>\n",
       "      <td>...</td>\n",
       "      <td>0.00</td>\n",
       "      <td>0.00</td>\n",
       "      <td>0.000</td>\n",
       "      <td>0.0</td>\n",
       "      <td>0.0</td>\n",
       "      <td>0.0</td>\n",
       "      <td>0.0</td>\n",
       "      <td>0.000000</td>\n",
       "      <td>0.000000</td>\n",
       "      <td>0.0</td>\n",
       "    </tr>\n",
       "    <tr>\n",
       "      <th>188556</th>\n",
       "      <td>PCN</td>\n",
       "      <td>Oceania</td>\n",
       "      <td>Pitcairn</td>\n",
       "      <td>2021-06-18</td>\n",
       "      <td>0.0</td>\n",
       "      <td>0.0</td>\n",
       "      <td>0.000</td>\n",
       "      <td>0.0</td>\n",
       "      <td>0.0</td>\n",
       "      <td>0.000</td>\n",
       "      <td>...</td>\n",
       "      <td>0.00</td>\n",
       "      <td>0.00</td>\n",
       "      <td>0.000</td>\n",
       "      <td>0.0</td>\n",
       "      <td>0.0</td>\n",
       "      <td>0.0</td>\n",
       "      <td>0.0</td>\n",
       "      <td>0.000000</td>\n",
       "      <td>0.000000</td>\n",
       "      <td>0.0</td>\n",
       "    </tr>\n",
       "    <tr>\n",
       "      <th>188557</th>\n",
       "      <td>PCN</td>\n",
       "      <td>Oceania</td>\n",
       "      <td>Pitcairn</td>\n",
       "      <td>2021-06-19</td>\n",
       "      <td>0.0</td>\n",
       "      <td>0.0</td>\n",
       "      <td>0.000</td>\n",
       "      <td>0.0</td>\n",
       "      <td>0.0</td>\n",
       "      <td>0.000</td>\n",
       "      <td>...</td>\n",
       "      <td>0.00</td>\n",
       "      <td>0.00</td>\n",
       "      <td>0.000</td>\n",
       "      <td>0.0</td>\n",
       "      <td>0.0</td>\n",
       "      <td>0.0</td>\n",
       "      <td>0.0</td>\n",
       "      <td>0.000000</td>\n",
       "      <td>0.000000</td>\n",
       "      <td>0.0</td>\n",
       "    </tr>\n",
       "    <tr>\n",
       "      <th>188558</th>\n",
       "      <td>ESH</td>\n",
       "      <td>Africa</td>\n",
       "      <td>Western Sahara</td>\n",
       "      <td>2022-04-20</td>\n",
       "      <td>0.0</td>\n",
       "      <td>0.0</td>\n",
       "      <td>0.000</td>\n",
       "      <td>0.0</td>\n",
       "      <td>0.0</td>\n",
       "      <td>0.000</td>\n",
       "      <td>...</td>\n",
       "      <td>0.00</td>\n",
       "      <td>70.26</td>\n",
       "      <td>0.000</td>\n",
       "      <td>0.0</td>\n",
       "      <td>0.0</td>\n",
       "      <td>0.0</td>\n",
       "      <td>0.0</td>\n",
       "      <td>0.000000</td>\n",
       "      <td>0.000000</td>\n",
       "      <td>0.0</td>\n",
       "    </tr>\n",
       "  </tbody>\n",
       "</table>\n",
       "<p>188559 rows × 70 columns</p>\n",
       "</div>"
      ],
      "text/plain": [
       "       iso_code      continent        location        date  total_cases  \\\n",
       "0           MEX  North America          Mexico  2022-05-15    5745652.0   \n",
       "1           MEX  North America          Mexico  2022-05-16    5752441.0   \n",
       "2           MEX  North America          Mexico  2022-05-17    5752441.0   \n",
       "3           MEX  North America          Mexico  2022-05-18    5752441.0   \n",
       "4           MEX  North America          Mexico  2022-05-19    5752441.0   \n",
       "...         ...            ...             ...         ...          ...   \n",
       "188554      PCN        Oceania        Pitcairn  2021-06-16          0.0   \n",
       "188555      PCN        Oceania        Pitcairn  2021-06-17          0.0   \n",
       "188556      PCN        Oceania        Pitcairn  2021-06-18          0.0   \n",
       "188557      PCN        Oceania        Pitcairn  2021-06-19          0.0   \n",
       "188558      ESH         Africa  Western Sahara  2022-04-20          0.0   \n",
       "\n",
       "        new_cases  new_cases_smoothed  total_deaths  new_deaths  \\\n",
       "0             0.0             853.143      324465.0         0.0   \n",
       "1          6789.0             969.857      324617.0       152.0   \n",
       "2             0.0               0.000      324617.0         0.0   \n",
       "3             0.0               0.000      324617.0         0.0   \n",
       "4             0.0               0.000      324617.0         0.0   \n",
       "...           ...                 ...           ...         ...   \n",
       "188554        0.0               0.000           0.0         0.0   \n",
       "188555        0.0               0.000           0.0         0.0   \n",
       "188556        0.0               0.000           0.0         0.0   \n",
       "188557        0.0               0.000           0.0         0.0   \n",
       "188558        0.0               0.000           0.0         0.0   \n",
       "\n",
       "        new_deaths_smoothed  ...  hospital_beds_per_thousand  life_expectancy  \\\n",
       "0                    18.714  ...                        1.38            75.05   \n",
       "1                    21.714  ...                        1.38            75.05   \n",
       "2                     0.000  ...                        1.38            75.05   \n",
       "3                     0.000  ...                        1.38            75.05   \n",
       "4                     0.000  ...                        1.38            75.05   \n",
       "...                     ...  ...                         ...              ...   \n",
       "188554                0.000  ...                        0.00             0.00   \n",
       "188555                0.000  ...                        0.00             0.00   \n",
       "188556                0.000  ...                        0.00             0.00   \n",
       "188557                0.000  ...                        0.00             0.00   \n",
       "188558                0.000  ...                        0.00            70.26   \n",
       "\n",
       "        human_development_index  excess_mortality_cumulative_absolute  \\\n",
       "0                         0.779                                   0.0   \n",
       "1                         0.779                                   0.0   \n",
       "2                         0.779                                   0.0   \n",
       "3                         0.779                                   0.0   \n",
       "4                         0.779                                   0.0   \n",
       "...                         ...                                   ...   \n",
       "188554                    0.000                                   0.0   \n",
       "188555                    0.000                                   0.0   \n",
       "188556                    0.000                                   0.0   \n",
       "188557                    0.000                                   0.0   \n",
       "188558                    0.000                                   0.0   \n",
       "\n",
       "        excess_mortality_cumulative  excess_mortality  \\\n",
       "0                               0.0               0.0   \n",
       "1                               0.0               0.0   \n",
       "2                               0.0               0.0   \n",
       "3                               0.0               0.0   \n",
       "4                               0.0               0.0   \n",
       "...                             ...               ...   \n",
       "188554                          0.0               0.0   \n",
       "188555                          0.0               0.0   \n",
       "188556                          0.0               0.0   \n",
       "188557                          0.0               0.0   \n",
       "188558                          0.0               0.0   \n",
       "\n",
       "        excess_mortality_cumulative_per_million   mean_cases  mean_deaths   Rt  \n",
       "0                                           0.0  6589.737686   363.770905  0.0  \n",
       "1                                           0.0  6589.737686   363.770905  0.0  \n",
       "2                                           0.0  6589.737686   363.770905  0.0  \n",
       "3                                           0.0  6589.737686   363.770905  0.0  \n",
       "4                                           0.0  6589.737686   363.770905  0.0  \n",
       "...                                         ...          ...          ...  ...  \n",
       "188554                                      0.0     0.000000     0.000000  0.0  \n",
       "188555                                      0.0     0.000000     0.000000  0.0  \n",
       "188556                                      0.0     0.000000     0.000000  0.0  \n",
       "188557                                      0.0     0.000000     0.000000  0.0  \n",
       "188558                                      0.0     0.000000     0.000000  0.0  \n",
       "\n",
       "[188559 rows x 70 columns]"
      ]
     },
     "execution_count": 3,
     "metadata": {},
     "output_type": "execute_result"
    }
   ],
   "source": [
    "df"
   ]
  },
  {
   "cell_type": "code",
   "execution_count": 4,
   "metadata": {
    "id": "Hgq9ioqxqKjH"
   },
   "outputs": [],
   "source": [
    "df.replace([np.inf, -np.inf], np.nan, inplace=True)"
   ]
  },
  {
   "cell_type": "code",
   "execution_count": 5,
   "metadata": {
    "id": "ERCoy-MMqKjK"
   },
   "outputs": [],
   "source": [
    "df=df[df['Rt']<5].reset_index(drop=True)"
   ]
  },
  {
   "cell_type": "markdown",
   "metadata": {
    "id": "1wJxRTMYqKjN"
   },
   "source": [
    "### Определение переменной опасности"
   ]
  },
  {
   "cell_type": "code",
   "execution_count": 6,
   "metadata": {
    "id": "oLyCEb1QqKjQ",
    "outputId": "d96d5047-6090-43ac-bb89-320984a4b5dc"
   },
   "outputs": [
    {
     "name": "stderr",
     "output_type": "stream",
     "text": [
      "C:\\Users\\maksi\\AppData\\Local\\Temp/ipykernel_8624/1377177328.py:2: SettingWithCopyWarning: \n",
      "A value is trying to be set on a copy of a slice from a DataFrame.\n",
      "Try using .loc[row_indexer,col_indexer] = value instead\n",
      "\n",
      "See the caveats in the documentation: https://pandas.pydata.org/pandas-docs/stable/user_guide/indexing.html#returning-a-view-versus-a-copy\n",
      "  df1['Danger']=0\n"
     ]
    }
   ],
   "source": [
    "df1=df[df['Rt']<=0.7]\n",
    "df1['Danger']=0"
   ]
  },
  {
   "cell_type": "code",
   "execution_count": 7,
   "metadata": {
    "id": "IxvQUVnZqKjU",
    "outputId": "f0d778c4-1daf-4cf7-b9d5-3a7a9ba654c2"
   },
   "outputs": [
    {
     "name": "stderr",
     "output_type": "stream",
     "text": [
      "C:\\Users\\maksi\\AppData\\Local\\Temp/ipykernel_8624/2344824658.py:2: SettingWithCopyWarning: \n",
      "A value is trying to be set on a copy of a slice from a DataFrame.\n",
      "Try using .loc[row_indexer,col_indexer] = value instead\n",
      "\n",
      "See the caveats in the documentation: https://pandas.pydata.org/pandas-docs/stable/user_guide/indexing.html#returning-a-view-versus-a-copy\n",
      "  df2['Danger']=1\n"
     ]
    }
   ],
   "source": [
    "df2=df[(df['Rt']>0.7) & (df['Rt']<=0.95)]\n",
    "df2['Danger']=1"
   ]
  },
  {
   "cell_type": "code",
   "execution_count": 8,
   "metadata": {
    "id": "q_gKyy57qKjY",
    "outputId": "9f306395-7b31-4a65-c7e2-96e7494be7dc"
   },
   "outputs": [
    {
     "name": "stderr",
     "output_type": "stream",
     "text": [
      "C:\\Users\\maksi\\AppData\\Local\\Temp/ipykernel_8624/132883819.py:2: SettingWithCopyWarning: \n",
      "A value is trying to be set on a copy of a slice from a DataFrame.\n",
      "Try using .loc[row_indexer,col_indexer] = value instead\n",
      "\n",
      "See the caveats in the documentation: https://pandas.pydata.org/pandas-docs/stable/user_guide/indexing.html#returning-a-view-versus-a-copy\n",
      "  df3['Danger']=2\n"
     ]
    }
   ],
   "source": [
    "df3=df[df['Rt']>0.95]\n",
    "df3['Danger']=2"
   ]
  },
  {
   "cell_type": "code",
   "execution_count": 9,
   "metadata": {
    "id": "1_zFtclMqKja"
   },
   "outputs": [],
   "source": [
    "df=pd.concat([df1, df2, df3]).reset_index(drop=True)"
   ]
  },
  {
   "cell_type": "code",
   "execution_count": 10,
   "metadata": {
    "id": "0fqxl5RpqKjc"
   },
   "outputs": [],
   "source": [
    "X=df[['new_cases', 'new_deaths', 'Rt']]\n",
    "y=df['Danger']"
   ]
  },
  {
   "cell_type": "code",
   "execution_count": 11,
   "metadata": {
    "id": "3AsrF2R_qKjd"
   },
   "outputs": [],
   "source": [
    "#Получение выборок\n",
    "from sklearn.model_selection import train_test_split\n",
    "X_train, X_test, y_train, y_test = train_test_split(X, y, test_size=0.33, random_state=42, stratify=y)"
   ]
  },
  {
   "cell_type": "markdown",
   "metadata": {
    "id": "7khorwiUqKjf"
   },
   "source": [
    "## 2.3 Классификация \n",
    "\n",
    "Рассмотрим три модели классификации\n",
    "### KNeighborsClassifier\n",
    "Классификация на основе соседей - это тип обучения на основе экземпляров или необобщающего обучения: он не пытается построить общую внутреннюю модель, а просто сохраняет экземпляры обучающих данных. Классификация вычисляется простым большинством голосов ближайших соседей каждой точки: точке запроса назначается класс данных, который имеет наибольшее количество представителей среди ближайших соседей точки.\n",
    "\n",
    "### RandomForestClassifier\n",
    "Случайный лес — это метаоценка, которая соответствует ряду классификаторов дерева решений для различных подвыборок набора данных и использует усреднение для повышения точности прогнозирования и контроля переобучения. Размер подвыборки управляется параметром max_samples, если bootstrap=True (по умолчанию), в противном случае для построения каждого дерева используется весь набор данных\n",
    "### GaussianNB\n",
    "Наи́вный ба́йесовский классифика́тор — простой вероятностный классификатор, основанный на применении теоремы Байеса со строгими (наивными) предположениями о независимости. В зависимости от точной природы вероятностной модели, наивные байесовские классификаторы могут обучаться очень эффективно\n",
    "\n",
    "## Метрики\n",
    "Рассмотрим две метрики для оценивания модели классификации\n",
    "\n",
    "### accuracy f1-score\n",
    "Это гармоническое среднее значений точности и полноты. Возьмём её, потому что она дает лучшую оценку неправильно классифицированных случаев\n",
    "\n",
    "### macro avg f1-score\n",
    "\n",
    "macro avg f1-score пожалуй, самый простой из многочисленных методов усреднения. Макроусредненная оценка F1 (или макрооценка F1) вычисляется путем взятия среднего арифметического (также известного как невзвешенное среднее) всех оценок F1 для каждого класса. Этот метод будет взят, поскольку он обрабатывает все классы одинаково, независимо от их значений поддержки"
   ]
  },
  {
   "cell_type": "markdown",
   "metadata": {
    "id": "lDg6_EWoqKjj"
   },
   "source": [
    "## 2.4 Обучение"
   ]
  },
  {
   "cell_type": "code",
   "execution_count": 12,
   "metadata": {
    "id": "sQOv4fd_qKjl"
   },
   "outputs": [],
   "source": [
    "#Импорт моделей\n",
    "from sklearn.metrics import classification_report\n",
    "from sklearn.neighbors import KNeighborsClassifier\n",
    "from sklearn.ensemble import RandomForestClassifier\n",
    "from sklearn.naive_bayes import GaussianNB"
   ]
  },
  {
   "cell_type": "code",
   "execution_count": 13,
   "metadata": {
    "id": "T1Qbk2LbqKjn",
    "outputId": "12e73f37-d421-454a-b375-152900a8fe40"
   },
   "outputs": [
    {
     "name": "stdout",
     "output_type": "stream",
     "text": [
      "              precision    recall  f1-score   support\n",
      "\n",
      "           0       0.86      0.84      0.85     19844\n",
      "           1       0.54      0.60      0.57     11033\n",
      "           2       0.81      0.79      0.80     28070\n",
      "\n",
      "    accuracy                           0.77     58947\n",
      "   macro avg       0.74      0.74      0.74     58947\n",
      "weighted avg       0.78      0.77      0.77     58947\n",
      "\n"
     ]
    }
   ],
   "source": [
    "#Обучение\n",
    "neigh = KNeighborsClassifier(n_neighbors=3)\n",
    "neigh.fit(X_train, y_train)\n",
    "preds=neigh.predict(X_test)\n",
    "print(classification_report(preds, y_test))"
   ]
  },
  {
   "cell_type": "code",
   "execution_count": 14,
   "metadata": {
    "id": "J0eAfjPIqKjp",
    "outputId": "b3f639c8-0abb-4a50-c181-f3a008ca393f"
   },
   "outputs": [
    {
     "name": "stdout",
     "output_type": "stream",
     "text": [
      "              precision    recall  f1-score   support\n",
      "\n",
      "           0       1.00      1.00      1.00     19277\n",
      "           1       1.00      1.00      1.00     12359\n",
      "           2       1.00      1.00      1.00     27311\n",
      "\n",
      "    accuracy                           1.00     58947\n",
      "   macro avg       1.00      1.00      1.00     58947\n",
      "weighted avg       1.00      1.00      1.00     58947\n",
      "\n"
     ]
    }
   ],
   "source": [
    "#Обучение\n",
    "rfc = RandomForestClassifier()\n",
    "rfc.fit(X_train, y_train)\n",
    "rfc_preds=rfc.predict(X_test)\n",
    "print(classification_report(rfc_preds, y_test))"
   ]
  },
  {
   "cell_type": "code",
   "execution_count": 15,
   "metadata": {
    "id": "ovk2o8vyqKjq",
    "outputId": "acd98ce8-c5a2-40b8-c9b8-789bc07ca76e"
   },
   "outputs": [
    {
     "name": "stdout",
     "output_type": "stream",
     "text": [
      "              precision    recall  f1-score   support\n",
      "\n",
      "           0       0.99      0.34      0.51     55506\n",
      "           1       0.04      0.40      0.08      1344\n",
      "           2       0.05      0.64      0.09      2097\n",
      "\n",
      "    accuracy                           0.35     58947\n",
      "   macro avg       0.36      0.46      0.23     58947\n",
      "weighted avg       0.93      0.35      0.48     58947\n",
      "\n"
     ]
    }
   ],
   "source": [
    "#Обучение\n",
    "gnb = GaussianNB()\n",
    "gnb.fit(X_train, y_train)\n",
    "gnb_preds=gnb.predict(X_test)\n",
    "print(classification_report(gnb_preds, y_test))"
   ]
  },
  {
   "cell_type": "markdown",
   "metadata": {
    "id": "EPA_2ni7qKjs"
   },
   "source": [
    "### Вывод\n",
    "Наиболее оптимальной моделью будет `KNeighborsClassifier` c accuracy f1-score = `0.78` и macro avg f1-score = `0.74`, поскольку по сравнению с другими он показал наилучший результат. `RandomForestClassifier` не будет взят, поскольку у него явное переобучение"
   ]
  },
  {
   "cell_type": "markdown",
   "metadata": {
    "id": "wRB1oh1JqKjt"
   },
   "source": [
    "## Отчёт\n",
    "* 2.1 Разбиение набора данных - набор данныхз разбит на обучаюшую и тестовую выборки\n",
    "* 2.3 Классификация - выбраны 3 алгоритма классификации\n",
    "* 2.4 Обучение - произведена классификация по уровню опасности"
   ]
  },
  {
   "cell_type": "code",
   "execution_count": 16,
   "metadata": {
    "id": "VsTgBhogqKju"
   },
   "outputs": [],
   "source": [
    "# Сохранение данных\n",
    "df.to_csv('result_data.csv', encoding='utf-8-sig', index=False)"
   ]
  }
 ],
 "metadata": {
  "colab": {
   "name": "Report2.ipynb",
   "provenance": []
  },
  "kernelspec": {
   "display_name": "Python 3 (ipykernel)",
   "language": "python",
   "name": "python3"
  },
  "language_info": {
   "codemirror_mode": {
    "name": "ipython",
    "version": 3
   },
   "file_extension": ".py",
   "mimetype": "text/x-python",
   "name": "python",
   "nbconvert_exporter": "python",
   "pygments_lexer": "ipython3",
   "version": "3.9.7"
  }
 },
 "nbformat": 4,
 "nbformat_minor": 1
}
